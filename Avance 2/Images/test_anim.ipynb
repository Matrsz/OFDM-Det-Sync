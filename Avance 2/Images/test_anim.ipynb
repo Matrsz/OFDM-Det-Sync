{
 "cells": [
  {
   "cell_type": "code",
   "execution_count": 1,
   "metadata": {},
   "outputs": [
    {
     "ename": "UndefVarError",
     "evalue": "UndefVarError: `Movie` not defined",
     "output_type": "error",
     "traceback": [
      "UndefVarError: `Movie` not defined\n",
      "\n",
      "Stacktrace:\n",
      " [1] top-level scope\n",
      "   @ ~/Documents/IB/Proyecto Integrador/Avance 2/Images/test_anim.ipynb:1"
     ]
    }
   ],
   "source": [
    "using Luxor\n",
    "\n",
    "demo = Movie(400, 400, \"test\")\n",
    "\n",
    "function backdrop(scene, framenumber)\n",
    "    background(\"black\")\n",
    "end\n",
    "\n",
    "function frame(scene, framenumber)\n",
    "    sethue(Colors.HSV(framenumber, 1, 1))\n",
    "    eased_n = scene.easingfunction(framenumber, 0, 1, scene.framerange.stop)\n",
    "    circle(polar(100, -π/2 - (eased_n * 2π)), 80, :fill)\n",
    "    text(string(\"frame $framenumber of $(scene.framerange.stop)\"),\n",
    "        Point(O.x, O.y-190),\n",
    "        halign=:center)\n",
    "    text(scene.opts,\n",
    "        boxbottomcenter(BoundingBox()),\n",
    "        halign=:center,\n",
    "        valign=:bottom)\n",
    "end\n",
    "\n",
    "animate(demo, [\n",
    "    Scene(demo, backdrop, 0:359),\n",
    "    Scene(demo, frame, 0:359,\n",
    "        easingfunction=easeinoutcubic,\n",
    "        optarg=\"made with Julia\")\n",
    "    ],\n",
    "    creategif=true)"
   ]
  },
  {
   "cell_type": "code",
   "execution_count": null,
   "metadata": {},
   "outputs": [],
   "source": []
  }
 ],
 "metadata": {
  "kernelspec": {
   "display_name": "Julia 1.9.4",
   "language": "julia",
   "name": "julia-1.9"
  },
  "language_info": {
   "file_extension": ".jl",
   "mimetype": "application/julia",
   "name": "julia",
   "version": "1.9.4"
  }
 },
 "nbformat": 4,
 "nbformat_minor": 2
}
